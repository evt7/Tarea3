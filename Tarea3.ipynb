{
 "cells": [
  {
   "cell_type": "markdown",
   "id": "d2cebe23",
   "metadata": {},
   "source": [
    "## Parte 1"
   ]
  },
  {
   "cell_type": "code",
   "execution_count": 398,
   "id": "b10280b9",
   "metadata": {},
   "outputs": [],
   "source": [
    "# Asignación de coordenadas   \n",
    "O = (0,0)\n",
    "A = (1,3)\n",
    "B = (3,5)\n",
    "C = (5,2)"
   ]
  },
  {
   "cell_type": "code",
   "execution_count": 399,
   "id": "1b34e24f",
   "metadata": {
    "scrolled": true
   },
   "outputs": [],
   "source": [
    "# Distancia entre 2 puntos\n",
    "def calcular_distancia(X, Y):\n",
    "    return (((X[0] - Y[0])**2) + ((X[1] - Y[1])**2))**0.5 "
   ]
  },
  {
   "cell_type": "code",
   "execution_count": 400,
   "id": "648ab3d3",
   "metadata": {
    "scrolled": true
   },
   "outputs": [
    {
     "name": "stdout",
     "output_type": "stream",
     "text": [
      "Distancia: 2.8284271247461903\n"
     ]
    }
   ],
   "source": [
    "#Ejemplo de prueba usando A y B\n",
    "\n",
    "distancia = calcular_distancia (A,B)\n",
    "print('Distancia:',distancia)"
   ]
  },
  {
   "cell_type": "code",
   "execution_count": 401,
   "id": "6d227ad7",
   "metadata": {},
   "outputs": [],
   "source": [
    "#Distancia total recorrida (para que funcione bien se considera que siempre se parte del origen)\n",
    "\n",
    "def calcular_distancia_total(a,b,c):\n",
    "    return (calcular_distancia(O,b) + calcular_distancia(a,b) + calcular_distancia(b,c))"
   ]
  },
  {
   "cell_type": "code",
   "execution_count": 402,
   "id": "006a8c2b",
   "metadata": {
    "scrolled": true
   },
   "outputs": [
    {
     "name": "stdout",
     "output_type": "stream",
     "text": [
      "Distancia total: 12.26493029505548\n"
     ]
    }
   ],
   "source": [
    "#Ejemplo de prueba usando la ruta ABC\n",
    "distancia_total = calcular_distancia_total(A,B,C)\n",
    "print('Distancia total:',distancia_total)"
   ]
  },
  {
   "cell_type": "code",
   "execution_count": 403,
   "id": "df2bbe0c",
   "metadata": {
    "scrolled": false
   },
   "outputs": [
    {
     "name": "stdout",
     "output_type": "stream",
     "text": [
      "Distancia total: 13.113821708216154\n"
     ]
    }
   ],
   "source": [
    "# También puede usarse una lista como input si se prefiere, solo debe usarse el '*' para desempacar la lista, de otra forma me daba error\n",
    "\n",
    "# Asignación de rutas\n",
    "ruta1 = [A,B,C]\n",
    "ruta2 = [B,A,C]\n",
    "ruta3 = [B,C,A]\n",
    "\n",
    "distancia_ruta = calcular_distancia_total(*ruta3)\n",
    "print('Distancia total:', distancia_ruta )"
   ]
  },
  {
   "cell_type": "code",
   "execution_count": 404,
   "id": "940b1b59",
   "metadata": {},
   "outputs": [],
   "source": [
    "def optimizacion_ruta(rutas):\n",
    "    # Usaré esto para que la distancia actual más abajo sea siempre menor que el valor inicial \n",
    "    distancia_minima = float('inf')\n",
    "    # Y la ruta óptima como None\n",
    "    ruta_optima = None\n",
    "\n",
    "    # Iteramos sobre cada ruta en la lista de rutas\n",
    "    for ruta in rutas:\n",
    "        # Calculamos la distancia total de la ruta actual\n",
    "        distancia_actual = calcular_distancia_total(*ruta)\n",
    "        if distancia_actual < distancia_minima:\n",
    "            # Actualizamos la distancia mínima y la ruta óptima\n",
    "            distancia_minima = distancia_actual\n",
    "            ruta_optima = ruta\n",
    "\n",
    "    return ruta_optima"
   ]
  },
  {
   "cell_type": "code",
   "execution_count": 405,
   "id": "8eed921b",
   "metadata": {},
   "outputs": [
    {
     "name": "stdout",
     "output_type": "stream",
     "text": [
      "Ruta optimizada: Ruta 1\n"
     ]
    }
   ],
   "source": [
    "''' Ejemplo de prueba; tuve que poner el rutas.index porque sino me arrojaba como output las coordenadas, en vez del \n",
    " nombre de la ruta, sé que se ve distinto al formato que dió pero quise hacerlo así y porque para arreglarlo \n",
    " debería cambiar la función de calcular distancia total y estoy atrasado\n",
    " '''\n",
    "\n",
    "rutas = [ruta1, ruta2, ruta3]\n",
    "ruta_optima = optimizacion_ruta(rutas)\n",
    "\n",
    "print('Ruta optimizada:', 'Ruta', rutas.index(ruta_optima))\n"
   ]
  },
  {
   "cell_type": "markdown",
   "id": "a1367adc",
   "metadata": {},
   "source": [
    "## Parte 2"
   ]
  },
  {
   "cell_type": "code",
   "execution_count": 406,
   "id": "87217078",
   "metadata": {},
   "outputs": [],
   "source": [
    "class Libro:\n",
    "    def __init__(self, titulo, autor):\n",
    "        self.titulo = titulo\n",
    "        self.autor = autor\n",
    "        self.disponibilidad = \"Si\"\n",
    "\n",
    "    def obtener_titulo(self):\n",
    "        return self.titulo\n",
    "\n",
    "    def obtener_autor(self):\n",
    "        return self.autor\n",
    "\n",
    "    def esta_disponible(self):\n",
    "        if self.disponibilidad == \"Si\":\n",
    "            return \"Si\"\n",
    "        else:\n",
    "            return \"No\"\n",
    "\n",
    "    def libro_prestado(self):\n",
    "        if self.disponibilidad == \"Si\":\n",
    "            self.disponibilidad = \"No\"\n",
    "            print('El libro: \"{}\" de autor {} ha sido prestado.'.format(self.obtener_titulo(), self.obtener_autor()))\n",
    "        else:\n",
    "            print('El libro: \"{}\" de autor {} no está disponible.'.format(self.obtener_titulo(), self.obtener_autor()))\n",
    "\n",
    "    def devolver_libro(self):\n",
    "        if self.disponibilidad == \"No\":\n",
    "            self.disponibilidad = \"Si\"\n",
    "            print('El libro: \"{}\" de autor {} ha sido devuelto.'.format(self.obtener_titulo(), self.obtener_autor()))\n",
    "        else:\n",
    "            print('Error, el libro \"{}\" de autor {} ya estaba disponible.'.format(self.obtener_titulo(), self.obtener_autor()))\n",
    "\n"
   ]
  },
  {
   "cell_type": "code",
   "execution_count": 407,
   "id": "d831705c",
   "metadata": {},
   "outputs": [],
   "source": [
    "# Añado algunos libros que me gustan\n",
    "libro1 = Libro(\"El lobo estepario\",\"Hermann Hesse\")\n",
    "libro2 = Libro(\"El guardián entre el centeno\",\"J. D. Salinger\")\n",
    "libro3 = Libro(\"El túnel\", \"Ernesto Sábato\")"
   ]
  },
  {
   "cell_type": "code",
   "execution_count": 408,
   "id": "75e3c3a4",
   "metadata": {},
   "outputs": [
    {
     "name": "stdout",
     "output_type": "stream",
     "text": [
      "Libro 1: \"El lobo estepario\" de autor Hermann Hesse\n",
      "Disponibilidad: Si\n",
      "Libro 2: \"El guardián entre el centeno\" de autor J. D. Salinger\n",
      "Disponibilidad: Si\n",
      "Libro 3: \"El túnel\" de autor Ernesto Sábato\n",
      "Disponibilidad: Si\n"
     ]
    }
   ],
   "source": [
    "# Información de los libros\n",
    "# Libro 1\n",
    "print('Libro 1: \"{}\" de autor {}'.format(libro1.obtener_titulo(), libro1.obtener_autor()))\n",
    "print(\"Disponibilidad: {}\".format(libro1.esta_disponible()))\n",
    "\n",
    "# Libro 2\n",
    "print('Libro 2: \"{}\" de autor {}'.format(libro2.obtener_titulo(), libro2.obtener_autor()))\n",
    "print(\"Disponibilidad: {}\".format(libro2.esta_disponible()))\n",
    "\n",
    "# Libro 3\n",
    "print('Libro 3: \"{}\" de autor {}'.format(libro3.obtener_titulo(), libro3.obtener_autor()))\n",
    "print(\"Disponibilidad: {}\".format(libro3.esta_disponible()))\n"
   ]
  },
  {
   "cell_type": "code",
   "execution_count": 409,
   "id": "65c7bff8",
   "metadata": {},
   "outputs": [
    {
     "name": "stdout",
     "output_type": "stream",
     "text": [
      "El libro: \"El lobo estepario\" de autor Hermann Hesse ha sido prestado.\n",
      "Libro 1: \"El lobo estepario\" de autor Hermann Hesse\n",
      "Disponibilidad: No\n"
     ]
    }
   ],
   "source": [
    "# Pedir libro prestado\n",
    "libro1.libro_prestado()\n",
    "# Actualizar información\n",
    "print('Libro 1: \"{}\" de autor {}'.format(libro1.obtener_titulo(), libro1.obtener_autor()))\n",
    "print(\"Disponibilidad: {}\".format(libro1.esta_disponible()))"
   ]
  },
  {
   "cell_type": "code",
   "execution_count": 410,
   "id": "e0b4da9f",
   "metadata": {},
   "outputs": [
    {
     "name": "stdout",
     "output_type": "stream",
     "text": [
      "El libro: \"El lobo estepario\" de autor Hermann Hesse no está disponible.\n",
      "Libro 1: \"El lobo estepario\" de autor Hermann Hesse\n",
      "Disponibilidad: No\n"
     ]
    }
   ],
   "source": [
    "#Pedir el mismo libro\n",
    "libro1.libro_prestado()\n",
    "# Actualizar información\n",
    "print('Libro 1: \"{}\" de autor {}'.format(libro1.obtener_titulo(), libro1.obtener_autor()))\n",
    "print(\"Disponibilidad: {}\".format(libro1.esta_disponible()))"
   ]
  },
  {
   "cell_type": "code",
   "execution_count": 411,
   "id": "8c4d5332",
   "metadata": {},
   "outputs": [
    {
     "name": "stdout",
     "output_type": "stream",
     "text": [
      "El libro: \"El lobo estepario\" de autor Hermann Hesse ha sido devuelto.\n",
      "Libro 1: \"El lobo estepario\" de autor Hermann Hesse\n",
      "Disponibilidad: Si\n"
     ]
    }
   ],
   "source": [
    "#Devolver el libro\n",
    "libro1.devolver_libro()\n",
    "# Actualizar información\n",
    "print('Libro 1: \"{}\" de autor {}'.format(libro1.obtener_titulo(), libro1.obtener_autor()))\n",
    "print(\"Disponibilidad: {}\".format(libro1.esta_disponible()))"
   ]
  },
  {
   "cell_type": "code",
   "execution_count": 412,
   "id": "2c907804",
   "metadata": {},
   "outputs": [
    {
     "name": "stdout",
     "output_type": "stream",
     "text": [
      "Error, el libro \"El guardián entre el centeno\" de autor J. D. Salinger ya estaba disponible.\n",
      "Libro 2: \"El guardián entre el centeno\" de autor J. D. Salinger\n",
      "Disponibilidad: Si\n"
     ]
    }
   ],
   "source": [
    "#Devolver un libro que ya estaba\n",
    "libro2.devolver_libro()\n",
    "# Actualizar información\n",
    "print('Libro 2: \"{}\" de autor {}'.format(libro2.obtener_titulo(), libro2.obtener_autor()))\n",
    "print(\"Disponibilidad: {}\".format(libro2.esta_disponible()))\n"
   ]
  },
  {
   "cell_type": "markdown",
   "id": "bb46f89d",
   "metadata": {},
   "source": [
    "## Fin"
   ]
  }
 ],
 "metadata": {
  "kernelspec": {
   "display_name": "Python 3 (ipykernel)",
   "language": "python",
   "name": "python3"
  },
  "language_info": {
   "codemirror_mode": {
    "name": "ipython",
    "version": 3
   },
   "file_extension": ".py",
   "mimetype": "text/x-python",
   "name": "python",
   "nbconvert_exporter": "python",
   "pygments_lexer": "ipython3",
   "version": "3.9.13"
  }
 },
 "nbformat": 4,
 "nbformat_minor": 5
}
